{
 "cells": [
  {
   "cell_type": "code",
   "execution_count": 1,
   "metadata": {},
   "outputs": [
    {
     "data": {
      "text/html": [
       "<div>\n",
       "<style scoped>\n",
       "    .dataframe tbody tr th:only-of-type {\n",
       "        vertical-align: middle;\n",
       "    }\n",
       "\n",
       "    .dataframe tbody tr th {\n",
       "        vertical-align: top;\n",
       "    }\n",
       "\n",
       "    .dataframe thead th {\n",
       "        text-align: right;\n",
       "    }\n",
       "</style>\n",
       "<table border=\"1\" class=\"dataframe\">\n",
       "  <thead>\n",
       "    <tr style=\"text-align: right;\">\n",
       "      <th></th>\n",
       "      <th>Name</th>\n",
       "      <th>Customer_Segment</th>\n",
       "      <th>Customer_ID</th>\n",
       "      <th>Address</th>\n",
       "      <th>City</th>\n",
       "      <th>State</th>\n",
       "      <th>ZIP</th>\n",
       "      <th>#_Years_as_Customer</th>\n",
       "      <th>Store_Number</th>\n",
       "      <th>Responded_to_Last_Catalog</th>\n",
       "      <th>Avg_Num_Products_Purchased</th>\n",
       "      <th>Avg_Sale_Amount</th>\n",
       "    </tr>\n",
       "  </thead>\n",
       "  <tbody>\n",
       "    <tr>\n",
       "      <th>0</th>\n",
       "      <td>Pamela Wright</td>\n",
       "      <td>Store Mailing List</td>\n",
       "      <td>2</td>\n",
       "      <td>376 S Jasmine St</td>\n",
       "      <td>Denver</td>\n",
       "      <td>CO</td>\n",
       "      <td>80224</td>\n",
       "      <td>6</td>\n",
       "      <td>100</td>\n",
       "      <td>No</td>\n",
       "      <td>1</td>\n",
       "      <td>227.90</td>\n",
       "    </tr>\n",
       "    <tr>\n",
       "      <th>1</th>\n",
       "      <td>Danell Valdez</td>\n",
       "      <td>Store Mailing List</td>\n",
       "      <td>7</td>\n",
       "      <td>12066 E Lake Cir</td>\n",
       "      <td>Greenwood Village</td>\n",
       "      <td>CO</td>\n",
       "      <td>80111</td>\n",
       "      <td>6</td>\n",
       "      <td>105</td>\n",
       "      <td>Yes</td>\n",
       "      <td>1</td>\n",
       "      <td>55.00</td>\n",
       "    </tr>\n",
       "    <tr>\n",
       "      <th>2</th>\n",
       "      <td>Jessica Rinehart</td>\n",
       "      <td>Store Mailing List</td>\n",
       "      <td>8</td>\n",
       "      <td>7225 S Gaylord St</td>\n",
       "      <td>Centennial</td>\n",
       "      <td>CO</td>\n",
       "      <td>80122</td>\n",
       "      <td>3</td>\n",
       "      <td>101</td>\n",
       "      <td>No</td>\n",
       "      <td>1</td>\n",
       "      <td>212.57</td>\n",
       "    </tr>\n",
       "    <tr>\n",
       "      <th>3</th>\n",
       "      <td>Nancy Clark</td>\n",
       "      <td>Store Mailing List</td>\n",
       "      <td>9</td>\n",
       "      <td>4497 Cornish Way</td>\n",
       "      <td>Denver</td>\n",
       "      <td>CO</td>\n",
       "      <td>80239</td>\n",
       "      <td>6</td>\n",
       "      <td>105</td>\n",
       "      <td>Yes</td>\n",
       "      <td>1</td>\n",
       "      <td>195.31</td>\n",
       "    </tr>\n",
       "    <tr>\n",
       "      <th>4</th>\n",
       "      <td>Andrea Brun</td>\n",
       "      <td>Store Mailing List</td>\n",
       "      <td>10</td>\n",
       "      <td>2316 E 5th Ave</td>\n",
       "      <td>Denver</td>\n",
       "      <td>CO</td>\n",
       "      <td>80206</td>\n",
       "      <td>2</td>\n",
       "      <td>100</td>\n",
       "      <td>Yes</td>\n",
       "      <td>1</td>\n",
       "      <td>110.55</td>\n",
       "    </tr>\n",
       "  </tbody>\n",
       "</table>\n",
       "</div>"
      ],
      "text/plain": [
       "               Name    Customer_Segment  Customer_ID            Address  \\\n",
       "0     Pamela Wright  Store Mailing List            2   376 S Jasmine St   \n",
       "1     Danell Valdez  Store Mailing List            7   12066 E Lake Cir   \n",
       "2  Jessica Rinehart  Store Mailing List            8  7225 S Gaylord St   \n",
       "3       Nancy Clark  Store Mailing List            9   4497 Cornish Way   \n",
       "4       Andrea Brun  Store Mailing List           10     2316 E 5th Ave   \n",
       "\n",
       "                City State    ZIP  #_Years_as_Customer  Store_Number  \\\n",
       "0             Denver    CO  80224                    6           100   \n",
       "1  Greenwood Village    CO  80111                    6           105   \n",
       "2         Centennial    CO  80122                    3           101   \n",
       "3             Denver    CO  80239                    6           105   \n",
       "4             Denver    CO  80206                    2           100   \n",
       "\n",
       "  Responded_to_Last_Catalog  Avg_Num_Products_Purchased  Avg_Sale_Amount  \n",
       "0                        No                           1           227.90  \n",
       "1                       Yes                           1            55.00  \n",
       "2                        No                           1           212.57  \n",
       "3                       Yes                           1           195.31  \n",
       "4                       Yes                           1           110.55  "
      ]
     },
     "execution_count": 1,
     "metadata": {},
     "output_type": "execute_result"
    }
   ],
   "source": [
    "import numpy as np\n",
    "import pandas as pd\n",
    "dataset = pd.read_excel(\"p1-customers.xlsx\")\n",
    "dataset.head()"
   ]
  },
  {
   "cell_type": "code",
   "execution_count": 2,
   "metadata": {},
   "outputs": [
    {
     "data": {
      "text/html": [
       "<div>\n",
       "<style scoped>\n",
       "    .dataframe tbody tr th:only-of-type {\n",
       "        vertical-align: middle;\n",
       "    }\n",
       "\n",
       "    .dataframe tbody tr th {\n",
       "        vertical-align: top;\n",
       "    }\n",
       "\n",
       "    .dataframe thead th {\n",
       "        text-align: right;\n",
       "    }\n",
       "</style>\n",
       "<table border=\"1\" class=\"dataframe\">\n",
       "  <thead>\n",
       "    <tr style=\"text-align: right;\">\n",
       "      <th></th>\n",
       "      <th>Customer_Segment</th>\n",
       "      <th>Avg_Num_Products_Purchased</th>\n",
       "      <th>Avg_Sale_Amount</th>\n",
       "    </tr>\n",
       "  </thead>\n",
       "  <tbody>\n",
       "    <tr>\n",
       "      <th>0</th>\n",
       "      <td>Store Mailing List</td>\n",
       "      <td>1</td>\n",
       "      <td>227.90</td>\n",
       "    </tr>\n",
       "    <tr>\n",
       "      <th>1</th>\n",
       "      <td>Store Mailing List</td>\n",
       "      <td>1</td>\n",
       "      <td>55.00</td>\n",
       "    </tr>\n",
       "    <tr>\n",
       "      <th>2</th>\n",
       "      <td>Store Mailing List</td>\n",
       "      <td>1</td>\n",
       "      <td>212.57</td>\n",
       "    </tr>\n",
       "    <tr>\n",
       "      <th>3</th>\n",
       "      <td>Store Mailing List</td>\n",
       "      <td>1</td>\n",
       "      <td>195.31</td>\n",
       "    </tr>\n",
       "    <tr>\n",
       "      <th>4</th>\n",
       "      <td>Store Mailing List</td>\n",
       "      <td>1</td>\n",
       "      <td>110.55</td>\n",
       "    </tr>\n",
       "  </tbody>\n",
       "</table>\n",
       "</div>"
      ],
      "text/plain": [
       "     Customer_Segment  Avg_Num_Products_Purchased  Avg_Sale_Amount\n",
       "0  Store Mailing List                           1           227.90\n",
       "1  Store Mailing List                           1            55.00\n",
       "2  Store Mailing List                           1           212.57\n",
       "3  Store Mailing List                           1           195.31\n",
       "4  Store Mailing List                           1           110.55"
      ]
     },
     "execution_count": 2,
     "metadata": {},
     "output_type": "execute_result"
    }
   ],
   "source": [
    "dataset = dataset.drop([\"Name\", \"Customer_ID\", \"Address\", \"State\", \"#_Years_as_Customer\", \"City\", \"ZIP\", \"Store_Number\", \"Responded_to_Last_Catalog\"], axis=1)\n",
    "dataset.head()"
   ]
  },
  {
   "cell_type": "code",
   "execution_count": 3,
   "metadata": {},
   "outputs": [
    {
     "data": {
      "text/html": [
       "<div>\n",
       "<style scoped>\n",
       "    .dataframe tbody tr th:only-of-type {\n",
       "        vertical-align: middle;\n",
       "    }\n",
       "\n",
       "    .dataframe tbody tr th {\n",
       "        vertical-align: top;\n",
       "    }\n",
       "\n",
       "    .dataframe thead th {\n",
       "        text-align: right;\n",
       "    }\n",
       "</style>\n",
       "<table border=\"1\" class=\"dataframe\">\n",
       "  <thead>\n",
       "    <tr style=\"text-align: right;\">\n",
       "      <th></th>\n",
       "      <th>Avg_Num_Products_Purchased</th>\n",
       "      <th>Avg_Sale_Amount</th>\n",
       "      <th>Customer_Segment_Loyalty Club Only</th>\n",
       "      <th>Customer_Segment_Loyalty Club and Credit Card</th>\n",
       "      <th>Customer_Segment_Store Mailing List</th>\n",
       "    </tr>\n",
       "  </thead>\n",
       "  <tbody>\n",
       "    <tr>\n",
       "      <th>0</th>\n",
       "      <td>1</td>\n",
       "      <td>227.90</td>\n",
       "      <td>0</td>\n",
       "      <td>0</td>\n",
       "      <td>1</td>\n",
       "    </tr>\n",
       "    <tr>\n",
       "      <th>1</th>\n",
       "      <td>1</td>\n",
       "      <td>55.00</td>\n",
       "      <td>0</td>\n",
       "      <td>0</td>\n",
       "      <td>1</td>\n",
       "    </tr>\n",
       "    <tr>\n",
       "      <th>2</th>\n",
       "      <td>1</td>\n",
       "      <td>212.57</td>\n",
       "      <td>0</td>\n",
       "      <td>0</td>\n",
       "      <td>1</td>\n",
       "    </tr>\n",
       "    <tr>\n",
       "      <th>3</th>\n",
       "      <td>1</td>\n",
       "      <td>195.31</td>\n",
       "      <td>0</td>\n",
       "      <td>0</td>\n",
       "      <td>1</td>\n",
       "    </tr>\n",
       "    <tr>\n",
       "      <th>4</th>\n",
       "      <td>1</td>\n",
       "      <td>110.55</td>\n",
       "      <td>0</td>\n",
       "      <td>0</td>\n",
       "      <td>1</td>\n",
       "    </tr>\n",
       "  </tbody>\n",
       "</table>\n",
       "</div>"
      ],
      "text/plain": [
       "   Avg_Num_Products_Purchased  Avg_Sale_Amount  \\\n",
       "0                           1           227.90   \n",
       "1                           1            55.00   \n",
       "2                           1           212.57   \n",
       "3                           1           195.31   \n",
       "4                           1           110.55   \n",
       "\n",
       "   Customer_Segment_Loyalty Club Only  \\\n",
       "0                                   0   \n",
       "1                                   0   \n",
       "2                                   0   \n",
       "3                                   0   \n",
       "4                                   0   \n",
       "\n",
       "   Customer_Segment_Loyalty Club and Credit Card  \\\n",
       "0                                              0   \n",
       "1                                              0   \n",
       "2                                              0   \n",
       "3                                              0   \n",
       "4                                              0   \n",
       "\n",
       "   Customer_Segment_Store Mailing List  \n",
       "0                                    1  \n",
       "1                                    1  \n",
       "2                                    1  \n",
       "3                                    1  \n",
       "4                                    1  "
      ]
     },
     "execution_count": 3,
     "metadata": {},
     "output_type": "execute_result"
    }
   ],
   "source": [
    "dataset_dv = pd.get_dummies(dataset, columns = [\"Customer_Segment\"], drop_first=True)\n",
    "dataset_dv.head()"
   ]
  },
  {
   "cell_type": "code",
   "execution_count": 4,
   "metadata": {},
   "outputs": [
    {
     "data": {
      "text/plain": [
       "Avg_Sale_Amount                                  1.000000\n",
       "Avg_Num_Products_Purchased                       0.855754\n",
       "Customer_Segment_Loyalty Club and Credit Card    0.591488\n",
       "Customer_Segment_Loyalty Club Only              -0.005746\n",
       "Customer_Segment_Store Mailing List             -0.666655\n",
       "Name: Avg_Sale_Amount, dtype: float64"
      ]
     },
     "execution_count": 4,
     "metadata": {},
     "output_type": "execute_result"
    }
   ],
   "source": [
    "corr_mat = dataset_dv.corr()\n",
    "features = corr_mat[\"Avg_Sale_Amount\"].sort_values(ascending = False)\n",
    "features"
   ]
  },
  {
   "cell_type": "code",
   "execution_count": 5,
   "metadata": {},
   "outputs": [],
   "source": [
    "from sklearn.model_selection import train_test_split\n",
    "train, test = train_test_split(dataset_dv, test_size = 0.3, random_state = 0) "
   ]
  },
  {
   "cell_type": "code",
   "execution_count": 6,
   "metadata": {},
   "outputs": [],
   "source": [
    "train_targets = train.loc[:,\"Avg_Sale_Amount\"].values\n",
    "train = train.drop(\"Avg_Sale_Amount\", axis=1)\n",
    "train_data = (train.iloc[:,:].values).astype('float64')\n",
    "\n",
    "test_targets = test.loc[:,\"Avg_Sale_Amount\"].values\n",
    "test = test.drop(\"Avg_Sale_Amount\", axis=1)\n",
    "test_data = (test.iloc[:,:].values).astype('float64')"
   ]
  },
  {
   "cell_type": "code",
   "execution_count": 7,
   "metadata": {},
   "outputs": [
    {
     "data": {
      "text/plain": [
       "array([ 657.55, 2455.9 ,   16.25, ...,  235.44,   13.66,  548.84])"
      ]
     },
     "execution_count": 7,
     "metadata": {},
     "output_type": "execute_result"
    }
   ],
   "source": [
    "train_targets"
   ]
  },
  {
   "cell_type": "code",
   "execution_count": 8,
   "metadata": {},
   "outputs": [
    {
     "data": {
      "text/plain": [
       "array([[ 5.,  0.,  0.,  0.],\n",
       "       [16.,  0.,  1.,  0.],\n",
       "       [ 1.,  0.,  0.,  1.],\n",
       "       ...,\n",
       "       [ 1.,  0.,  0.,  1.],\n",
       "       [ 1.,  0.,  0.,  1.],\n",
       "       [ 5.,  1.,  0.,  0.]])"
      ]
     },
     "execution_count": 8,
     "metadata": {},
     "output_type": "execute_result"
    }
   ],
   "source": [
    "train_data"
   ]
  },
  {
   "cell_type": "code",
   "execution_count": 12,
   "metadata": {},
   "outputs": [
    {
     "data": {
      "text/plain": [
       "array([ 172.71,   80.25,  138.49, 1492.45,  112.99,  176.09,  738.73,\n",
       "         89.53,   14.86,  153.96,  309.87, 1049.69,  423.21,  322.03,\n",
       "        192.43,  985.71,  187.17,  217.01,   54.  ,  333.97,  374.67,\n",
       "         34.72,   55.08,  828.47,  194.25,  145.72,  643.66,  992.74,\n",
       "         46.65,  181.21,  106.92,  649.31,  477.18,  105.24,  335.13,\n",
       "        681.82,  184.44,  193.81,  260.01,  281.13,  653.9 ,  623.49,\n",
       "        654.58,  248.98,  914.58,  181.92,  541.29,    6.5 ,  455.78,\n",
       "        244.86, 1058.91,  854.87,  381.99,  451.28,  192.04,  891.75,\n",
       "        261.84,  153.26,  202.77,  421.91,  311.84,  249.44,  290.25,\n",
       "        285.32,   46.89,  232.17, 1472.38,  252.94,   75.24,  984.13,\n",
       "        817.61,  775.66,  123.12,  374.83,   81.57,  235.54,  182.97,\n",
       "        803.54,  231.88,   66.88,  206.53,  211.1 ,  264.84,  551.53,\n",
       "        540.68,  629.32,  814.24,  160.13,    8.5 ,   88.43,  161.85,\n",
       "        209.08,  347.54,  359.18,  378.31,  406.86,  209.3 ,  225.38,\n",
       "        190.1 ,  124.65,  366.17,  772.48,   16.58,  137.25,  128.31,\n",
       "        310.2 ,   98.67,  222.61,  206.64,  450.93,  395.69,  270.72,\n",
       "        679.1 ,   16.96,  323.66,  698.94,  785.73,  300.42,  277.13,\n",
       "         65.79,  471.09,  729.85,  268.4 ,   69.21,  185.44,   83.65,\n",
       "        175.3 ,  181.91,  232.92,   75.67,  364.82,   58.91,  492.61,\n",
       "        761.98,  239.96,  750.89,  179.46,  433.53,  124.77,  417.5 ,\n",
       "        322.06,  468.64,  255.19,  222.61,  146.43,  391.93,  665.33,\n",
       "       1392.46,  231.98,  994.37,  213.16,   78.28,  149.5 ,  268.97,\n",
       "        245.16,  507.38,  186.58, 1772.55,  902.5 ,   19.21,  344.71,\n",
       "         45.97,  198.47,  568.37,  639.48,  326.12,  317.25,   33.65,\n",
       "        546.41,  526.87,  356.73,   99.99,  216.04,  647.26,  425.93,\n",
       "        104.15,  363.81,  155.22,  801.16,  925.52,  806.91,  149.07,\n",
       "        652.44,  110.7 ,  773.14,  113.12, 1217.33,  106.06,  135.72,\n",
       "        175.66,  136.62,   63.2 ,   93.83,  271.15,  906.23,  239.6 ,\n",
       "        327.99,  284.32,  528.82,  170.77,  236.01,  132.99,   27.51,\n",
       "        117.  ,  706.99, 1264.94,  206.91,  192.63,  174.36,   96.31,\n",
       "        231.04,   73.77,  165.27,  360.69,   81.02,  483.24,   88.13,\n",
       "        316.58,  197.55,  617.19,  152.29,  595.46,  628.06,  851.21,\n",
       "        171.61,  478.11,   42.03,  250.2 ,   50.57, 1004.8 ,  551.02,\n",
       "        472.68, 1119.62,   92.49,  700.24,  145.53,  782.99,  188.53,\n",
       "        861.89,  218.44,  612.55,  241.26,  623.35,  823.86,  186.51,\n",
       "        144.46,  172.7 ,  229.79,  208.28,  892.35,  814.94,  123.41,\n",
       "        181.37,  145.92,  289.19,  249.96,  672.63,  603.75,  506.67,\n",
       "        191.59,  155.09,  152.85,  260.31,  212.7 ,  739.85,   55.  ,\n",
       "         75.68,  183.69,  483.5 ,  631.54,  299.57,  396.43,  322.38,\n",
       "        558.23,  191.12,  581.32, 1424.41,  698.06,  291.04,  309.62,\n",
       "         66.01,  116.01,  217.92,  269.67,  591.03,  455.58,   74.95,\n",
       "        367.09,  299.76,   75.46,  269.73, 1766.63,  109.98,  215.85,\n",
       "        683.4 ,  217.  ,  288.1 ,  793.43,  170.22,  360.77,  194.41,\n",
       "        232.76,  539.75,  783.42,  278.21,   20.82,  126.72,   71.86,\n",
       "        243.37,  228.84,  280.66,  621.18,  511.09,  431.88,   78.85,\n",
       "        177.94,  273.22,  556.19,  137.01,  172.54,  154.98,  162.  ,\n",
       "        264.89,  267.43,  215.87,   50.71,  774.64,  261.34,  530.6 ,\n",
       "        197.6 ,  169.45,  651.91,  456.23,   52.69,  339.41,  702.56,\n",
       "        208.23,  942.95,   79.63,  805.08,  301.22,  224.37,  603.35,\n",
       "        185.4 ,  119.96,  769.95,  230.15,  607.72, 1002.31,  137.08,\n",
       "        543.04,  411.72,  498.35,  426.53,  601.88,   15.17,  274.3 ,\n",
       "        449.02,   58.91,  199.59,  866.17,  286.39,  606.18,  298.49,\n",
       "        333.33,  244.17, 1271.34,  448.18,  469.36,  538.96,  561.59,\n",
       "        570.46,   85.02,  382.14,  354.04,  488.62,   54.73,    8.92,\n",
       "        195.61,  536.8 ,   60.99,  387.97,  359.63,  619.26,  472.34,\n",
       "        166.91,  114.31,  206.31,    9.86,  225.14,  129.22,  901.31,\n",
       "        901.69,   99.89,  231.99,  216.46,  243.54,  236.8 ,  638.48,\n",
       "       2187.81,  175.66,  208.93,  737.65,  203.91,  210.63,   48.62,\n",
       "        371.39,  237.87,  205.66,  775.56,  226.31,  114.7 ,   59.6 ,\n",
       "        470.4 ,  219.53,  212.18,  776.8 ,  485.5 ,   47.04,  497.61,\n",
       "        124.27,  444.01,   89.63,  505.99,  410.42,  283.73,  113.73,\n",
       "        155.65,  857.65,  343.03,  106.7 ,  148.64,  196.4 ,  231.39,\n",
       "        568.23,  539.61,   79.86,  280.58,  396.45,  446.92,  152.53,\n",
       "         81.86,  404.43,  203.05,   66.07,    6.95,  199.5 ,  211.37,\n",
       "        537.31, 1089.16,  315.8 ,  241.1 ,  361.96,  470.32,  298.79,\n",
       "        545.02,   36.74,  585.36,  959.97,  151.68,  638.35,  157.5 ,\n",
       "        806.4 ,  363.2 ,  216.49,  802.75,  509.32,  145.46,  385.33,\n",
       "        117.62,   66.87,  486.47,  344.82,  393.9 ,  618.92,  845.03,\n",
       "         49.37, 2963.49,  593.81,  127.37,  709.44,  333.08,  154.65,\n",
       "        196.79,  313.37,  365.18,  454.98,  301.64,  141.79,  341.24,\n",
       "        966.57,  604.3 ,  442.61,  902.45,  578.4 ,  240.49,   25.61,\n",
       "        239.67,  551.81,  141.55,  439.09,  810.32,  242.72,  867.02,\n",
       "        234.92,  806.07,  235.36,  132.24,  495.2 ,   65.93,   83.06,\n",
       "        720.87,  403.95,  173.04,  171.39,  547.95,  321.57,  563.91,\n",
       "        923.65,  158.08,  291.26,  458.22,  241.17,  557.16,  814.41,\n",
       "         72.31,  292.34,  583.04,  397.71,  569.08,  816.19,  959.41,\n",
       "         88.32,  175.82,   42.41,  254.52,  323.03,  276.06,  227.19,\n",
       "         62.44,  359.99,  106.96,   36.9 ,  211.86,   43.94,  125.01,\n",
       "        244.74,  279.62,  687.56,  229.1 ,  698.39,  267.6 ,  119.12,\n",
       "        390.27,  157.8 ,    4.91,  206.94,  160.51,  321.28,  105.6 ,\n",
       "        387.52,  802.67,  233.02,  352.95,  243.64,  165.11,  694.48,\n",
       "        243.5 ,  191.28,  660.28,  115.63,  372.95,  286.93,  238.1 ,\n",
       "        492.59,  939.14,  199.02,  738.6 ,  117.39,  444.63,  835.6 ,\n",
       "       1042.85,  212.78,   75.51,    9.06,  516.56,  820.12,  136.31,\n",
       "         74.97,  358.61,  739.91,  413.03,   17.54,  112.67,  322.8 ,\n",
       "       1101.8 ,  184.6 ,  984.  ,  254.27,  934.  ,   85.99,   12.83,\n",
       "        152.93,  264.42,  146.48,  453.29,  345.06,  884.51,  385.63,\n",
       "        115.72,  180.5 ,  318.63,  862.89,  536.71,  235.36,  613.54,\n",
       "        192.19,  209.94,   64.14,  220.74,   31.81,  273.15,  107.13,\n",
       "         46.19,  229.88,  481.91,  316.47,  123.95,  122.24,  169.19,\n",
       "        639.71,  567.03, 1030.92,  171.18,  370.34,   99.34,  123.3 ,\n",
       "        224.8 ,  938.21,  665.6 ,  176.82,   40.78,  695.  ,  318.47,\n",
       "       1546.27,   22.03,   44.69,  442.44,  795.58,  210.44,  462.53,\n",
       "        550.75,   81.73,  347.44,  153.9 ,  162.82,  501.91,  974.71,\n",
       "        339.76,  198.77,  295.89,  748.75,  470.45,  123.64,  390.76,\n",
       "        860.73,   22.52,  475.9 ,  208.1 ,  380.55,  703.94, 1312.98,\n",
       "        565.02,  311.14,  752.72,  166.04,  909.36,  206.88,  373.34,\n",
       "        140.04,  382.52,  222.73,  303.33,  690.76,  423.09, 1162.16,\n",
       "        769.28,  229.95,  269.1 ,  400.01,  167.89,  449.7 ,  149.  ,\n",
       "        399.31,   38.25,  309.94,  799.96,  432.09,  221.58,  739.1 ,\n",
       "        139.68,  602.36,  692.49,  229.2 , 1157.08,  173.18,   99.5 ,\n",
       "        403.66,  138.7 ,  292.98,  263.4 ,  171.55,   58.99])"
      ]
     },
     "execution_count": 12,
     "metadata": {},
     "output_type": "execute_result"
    }
   ],
   "source": [
    "test_targets"
   ]
  },
  {
   "cell_type": "code",
   "execution_count": 10,
   "metadata": {},
   "outputs": [
    {
     "data": {
      "text/plain": [
       "array([[1., 0., 0., 1.],\n",
       "       [1., 0., 0., 1.],\n",
       "       [1., 0., 0., 1.],\n",
       "       ...,\n",
       "       [3., 0., 0., 1.],\n",
       "       [2., 0., 0., 1.],\n",
       "       [1., 0., 0., 1.]])"
      ]
     },
     "execution_count": 10,
     "metadata": {},
     "output_type": "execute_result"
    }
   ],
   "source": [
    "test_data"
   ]
  },
  {
   "cell_type": "code",
   "execution_count": 13,
   "metadata": {},
   "outputs": [],
   "source": [
    "# Normalizing the data\n",
    "mean = train_data.mean(axis=0)\n",
    "train_data -= mean\n",
    "std = train_data.std(axis=0)\n",
    "train_data /= std\n",
    "\n",
    "test_data -= mean\n",
    "test_data /= std"
   ]
  },
  {
   "cell_type": "code",
   "execution_count": 14,
   "metadata": {},
   "outputs": [
    {
     "name": "stderr",
     "output_type": "stream",
     "text": [
      "/home/dvisionb/anaconda3/envs/DLwithPython/lib/python3.6/site-packages/h5py/__init__.py:36: FutureWarning: Conversion of the second argument of issubdtype from `float` to `np.floating` is deprecated. In future, it will be treated as `np.float64 == np.dtype(float).type`.\n",
      "  from ._conv import register_converters as _register_converters\n",
      "Using TensorFlow backend.\n"
     ]
    }
   ],
   "source": [
    "from keras import models\n",
    "from keras import layers"
   ]
  },
  {
   "cell_type": "code",
   "execution_count": 15,
   "metadata": {},
   "outputs": [],
   "source": [
    "def build_model():\n",
    "    model = models.Sequential()\n",
    "    model.add(layers.Dense(16, activation='relu', input_shape = (train_data.shape[1],)))\n",
    "    model.add(layers.Dense(16, activation='relu'))\n",
    "    model.add(layers.Dense(1))\n",
    "    \n",
    "    model.compile(optimizer='rmsprop', \n",
    "                  loss = 'mse',\n",
    "                  metrics = ['mae'])\n",
    "    return model"
   ]
  },
  {
   "cell_type": "code",
   "execution_count": 16,
   "metadata": {},
   "outputs": [
    {
     "data": {
      "text/plain": [
       "<keras.callbacks.History at 0x7fca62156e10>"
      ]
     },
     "execution_count": 16,
     "metadata": {},
     "output_type": "execute_result"
    }
   ],
   "source": [
    "model = build_model()\n",
    "model.fit(train_data, train_targets, epochs=750, batch_size=16, verbose=0)"
   ]
  },
  {
   "cell_type": "code",
   "execution_count": 17,
   "metadata": {},
   "outputs": [
    {
     "name": "stdout",
     "output_type": "stream",
     "text": [
      "713/713 [==============================] - 0s 28us/step\n"
     ]
    }
   ],
   "source": [
    "test_mse_score, test_mae_score = model.evaluate(test_data, test_targets)"
   ]
  },
  {
   "cell_type": "code",
   "execution_count": 18,
   "metadata": {},
   "outputs": [
    {
     "data": {
      "text/plain": [
       "12413.59487756673"
      ]
     },
     "execution_count": 18,
     "metadata": {},
     "output_type": "execute_result"
    }
   ],
   "source": [
    "test_mse_score"
   ]
  },
  {
   "cell_type": "code",
   "execution_count": 19,
   "metadata": {},
   "outputs": [
    {
     "data": {
      "text/plain": [
       "77.85959301021624"
      ]
     },
     "execution_count": 19,
     "metadata": {},
     "output_type": "execute_result"
    }
   ],
   "source": [
    "test_mae_score"
   ]
  },
  {
   "cell_type": "code",
   "execution_count": 20,
   "metadata": {},
   "outputs": [],
   "source": [
    "y_pred = model.predict(test_data)"
   ]
  },
  {
   "cell_type": "code",
   "execution_count": 21,
   "metadata": {},
   "outputs": [],
   "source": [
    "from sklearn.metrics import r2_score, mean_squared_error\n",
    "r2 = r2_score(test_targets, y_pred)\n",
    "mse = mean_squared_error(test_targets, y_pred)"
   ]
  },
  {
   "cell_type": "code",
   "execution_count": 22,
   "metadata": {},
   "outputs": [
    {
     "data": {
      "text/plain": [
       "(0.8752595942385236, 12413.595096532956)"
      ]
     },
     "execution_count": 22,
     "metadata": {},
     "output_type": "execute_result"
    }
   ],
   "source": [
    "r2, mse"
   ]
  },
  {
   "cell_type": "code",
   "execution_count": 23,
   "metadata": {},
   "outputs": [],
   "source": [
    "new_customers = pd.read_excel(\"p1-mailinglist.xlsx\")\n",
    "scores = new_customers.loc[:, [\"Score_Yes\"]].values"
   ]
  },
  {
   "cell_type": "code",
   "execution_count": 24,
   "metadata": {},
   "outputs": [],
   "source": [
    "new_customers = new_customers.drop([\"Name\", \"Customer_ID\", \"Address\", \"State\", \"#_Years_as_Customer\",\"City\", \"ZIP\", \"Store_Number\", \"Score_No\", \"Score_Yes\"], axis=1)\n",
    "new_customers = pd.get_dummies(new_customers, columns = [\"Customer_Segment\"], drop_first=True)\n",
    "new_customers_pred = new_customers.loc[:,:].values"
   ]
  },
  {
   "cell_type": "code",
   "execution_count": 25,
   "metadata": {},
   "outputs": [],
   "source": [
    "predictions = model.predict(new_customers_pred)"
   ]
  },
  {
   "cell_type": "code",
   "execution_count": 26,
   "metadata": {},
   "outputs": [
    {
     "name": "stdout",
     "output_type": "stream",
     "text": [
      "The predicted profit from sending out the catalogs to the new customer is: 45648.59\n"
     ]
    }
   ],
   "source": [
    "predicted_profit = (np.sum(np.multiply(scores,predictions))/2)-(6.5*250)\n",
    "\n",
    "#predicted_profit = (np.dot(scores,predictions)/2)-(6.5*250)\n",
    "\n",
    "print(\"The predicted profit from sending out the catalogs to the new customer is: %.2f\" % predicted_profit)"
   ]
  },
  {
   "cell_type": "code",
   "execution_count": null,
   "metadata": {},
   "outputs": [],
   "source": []
  }
 ],
 "metadata": {
  "kernelspec": {
   "display_name": "Python 3",
   "language": "python",
   "name": "python3"
  },
  "language_info": {
   "codemirror_mode": {
    "name": "ipython",
    "version": 3
   },
   "file_extension": ".py",
   "mimetype": "text/x-python",
   "name": "python",
   "nbconvert_exporter": "python",
   "pygments_lexer": "ipython3",
   "version": "3.6.4"
  }
 },
 "nbformat": 4,
 "nbformat_minor": 2
}
